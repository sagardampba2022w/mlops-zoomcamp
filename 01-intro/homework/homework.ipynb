{
 "cells": [
  {
   "cell_type": "code",
   "execution_count": 1,
   "id": "957bd79b",
   "metadata": {},
   "outputs": [],
   "source": [
    "import pandas as pd\n",
    "import pickle\n",
    "import seaborn as sns\n",
    "import matplotlib.pyplot as plt\n",
    "import numpy as np\n",
    "\n",
    "import pandas as pd\n",
    "from sklearn.feature_extraction import DictVectorizer\n",
    "from sklearn.linear_model import LinearRegression\n",
    "from sklearn.linear_model import Lasso\n",
    "from sklearn.linear_model import Ridge\n",
    "\n",
    "from sklearn.metrics import mean_squared_error\n",
    "from sklearn.metrics import root_mean_squared_error\n",
    "\n",
    "\n"
   ]
  },
  {
   "cell_type": "code",
   "execution_count": 2,
   "id": "1f978f21",
   "metadata": {},
   "outputs": [],
   "source": [
    "df_jan = pd.read_parquet('./data/yellow_tripdata_2023-01.parquet')\n",
    "df_feb = pd.read_parquet('./data/yellow_tripdata_2023-02.parquet')"
   ]
  },
  {
   "cell_type": "markdown",
   "id": "6681ce30",
   "metadata": {},
   "source": [
    "### Q1. Downloading the data\n",
    "\n",
    "```\n",
    "We'll use the same NYC taxi dataset, but instead of \"Green Taxi Trip Records\", we'll use \"Yellow Taxi Trip Records\".\n",
    "\n",
    "Download the data for January and February 2023.\n",
    "\n",
    "Read the data for January. How many columns are there?\n",
    "\n",
    "16\n",
    "17\n",
    "18\n",
    "19\n",
    "\n",
    "\n"
   ]
  },
  {
   "cell_type": "code",
   "execution_count": 3,
   "id": "7aae3902",
   "metadata": {},
   "outputs": [
    {
     "data": {
      "text/plain": [
       "'columns for jan data are 19'"
      ]
     },
     "execution_count": 3,
     "metadata": {},
     "output_type": "execute_result"
    }
   ],
   "source": [
    "f\"columns for jan data are {df_jan.shape[1]}\""
   ]
  },
  {
   "cell_type": "markdown",
   "id": "221f1fd1",
   "metadata": {},
   "source": [
    "### Q2. Computing duration\n",
    "```\n",
    "Now let's compute the duration variable. It should contain the duration of a ride in minutes.\n",
    "\n",
    "What's the standard deviation of the trips duration in January?\n",
    "\n",
    "32.59\n",
    "42.59\n",
    "52.59\n",
    "62.59\n",
    "```"
   ]
  },
  {
   "cell_type": "code",
   "execution_count": 4,
   "id": "8fb9f9fe",
   "metadata": {},
   "outputs": [
    {
     "data": {
      "text/plain": [
       "Index(['VendorID', 'tpep_pickup_datetime', 'tpep_dropoff_datetime',\n",
       "       'passenger_count', 'trip_distance', 'RatecodeID', 'store_and_fwd_flag',\n",
       "       'PULocationID', 'DOLocationID', 'payment_type', 'fare_amount', 'extra',\n",
       "       'mta_tax', 'tip_amount', 'tolls_amount', 'improvement_surcharge',\n",
       "       'total_amount', 'congestion_surcharge', 'airport_fee'],\n",
       "      dtype='object')"
      ]
     },
     "execution_count": 4,
     "metadata": {},
     "output_type": "execute_result"
    }
   ],
   "source": [
    "df_jan.columns"
   ]
  },
  {
   "cell_type": "code",
   "execution_count": 5,
   "id": "30159715",
   "metadata": {},
   "outputs": [],
   "source": [
    "df_jan['duration'] = df_jan.tpep_dropoff_datetime - df_jan.tpep_pickup_datetime\n",
    "df_jan.duration = df_jan.duration.apply(lambda td: td.total_seconds() / 60)\n",
    "\n",
    "df_feb['duration'] = df_feb.tpep_dropoff_datetime - df_feb.tpep_pickup_datetime\n",
    "df_feb.duration = df_feb.duration.apply(lambda td: td.total_seconds() / 60)\n",
    "\n"
   ]
  },
  {
   "cell_type": "code",
   "execution_count": 6,
   "id": "b49333e6",
   "metadata": {},
   "outputs": [
    {
     "name": "stdout",
     "output_type": "stream",
     "text": [
      "January fraction of records remaining: 0.981\n",
      "February fraction of records remaining: 0.980\n"
     ]
    }
   ],
   "source": [
    "# Calculate fraction of remaining records\n",
    "original_jan_count = len(df_jan)\n",
    "original_feb_count = len(df_feb)\n",
    "\n",
    "filtered_jan_count = len(df_jan[(df_jan.duration >= 1) & (df_jan.duration <= 60)])\n",
    "filtered_feb_count = len(df_feb[(df_feb.duration >= 1) & (df_feb.duration <= 60)])\n",
    "\n",
    "jan_fraction = filtered_jan_count / original_jan_count\n",
    "feb_fraction = filtered_feb_count / original_feb_count\n",
    "\n",
    "print(f\"January fraction of records remaining: {jan_fraction:.3f}\")\n",
    "print(f\"February fraction of records remaining: {feb_fraction:.3f}\")"
   ]
  },
  {
   "cell_type": "markdown",
   "id": "0d4cdadc",
   "metadata": {},
   "source": [
    "### Q4. One-hot encoding\n",
    "\n",
    "```\n",
    "Let's apply one-hot encoding to the pickup and dropoff location IDs. We'll use only these two features for our model.\n",
    "\n",
    "Turn the dataframe into a list of dictionaries (remember to re-cast the ids to strings - otherwise it will label encode them)\n",
    "Fit a dictionary vectorizer\n",
    "Get a feature matrix from it\n",
    "What's the dimensionality of this matrix (number of columns)?\n",
    "\n",
    "2\n",
    "155\n",
    "345\n",
    "515\n",
    "715\n",
    "```"
   ]
  },
  {
   "cell_type": "code",
   "execution_count": 7,
   "id": "0f7debc0",
   "metadata": {},
   "outputs": [],
   "source": [
    "categorical = ['PULocationID', 'DOLocationID']\n",
    "numerical = ['trip_distance']\n",
    "\n",
    "\n",
    "df_jan[categorical] = df_jan[categorical].astype(str)"
   ]
  },
  {
   "cell_type": "code",
   "execution_count": 8,
   "id": "adfa2e46",
   "metadata": {},
   "outputs": [
    {
     "name": "stdout",
     "output_type": "stream",
     "text": [
      "Number of columns in feature matrix: 519\n"
     ]
    }
   ],
   "source": [
    "train_dicts = df_jan[categorical + numerical].to_dict(orient='records')\n",
    "\n",
    "dv = DictVectorizer()\n",
    "X_train = dv.fit_transform(train_dicts)\n",
    "\n",
    "print(f\"Number of columns in feature matrix: {X_train.shape[1]}\")\n",
    "\n",
    "\n"
   ]
  },
  {
   "cell_type": "markdown",
   "id": "3728a889",
   "metadata": {},
   "source": [
    "### Q5. Training a model\n",
    "\n",
    "```\n",
    "Now let's use the feature matrix from the previous step to train a model.\n",
    "\n",
    "Train a plain linear regression model with default parameters, where duration is the response variable\n",
    "Calculate the RMSE of the model on the training data\n",
    "What's the RMSE on train?\n",
    "\n",
    "3.64\n",
    "7.64\n",
    "11.64\n",
    "16.64\n",
    "```"
   ]
  },
  {
   "cell_type": "code",
   "execution_count": 9,
   "id": "d95261f7",
   "metadata": {},
   "outputs": [
    {
     "name": "stdout",
     "output_type": "stream",
     "text": [
      "Number of columns in feature matrix: 519\n",
      "Mean Squared Error: 1765.0092805714291\n",
      "Root Mean Squared Error: 42.01201352674529\n"
     ]
    }
   ],
   "source": [
    "train_dicts = df_jan[categorical + numerical].to_dict(orient='records')\n",
    "\n",
    "dv = DictVectorizer()\n",
    "X_train = dv.fit_transform(train_dicts)\n",
    "\n",
    "print(f\"Number of columns in feature matrix: {X_train.shape[1]}\")\n",
    "\n",
    "\n",
    "target = 'duration'\n",
    "y_train= df_jan[target].values\n",
    "\n",
    "lr = LinearRegression()\n",
    "lr.fit(X_train, y_train)\n",
    "\n",
    "y_pred = lr.predict(X_train)\n",
    "\n",
    "mse = mean_squared_error(y_train, y_pred)\n",
    "\n",
    "\n",
    "#rmse = np.sqrt(mse)\n",
    "rmse = root_mean_squared_error(y_train, y_pred)\n",
    "\n",
    "\n",
    "print(f\"Mean Squared Error: {mse}\")\n",
    "print(f\"Root Mean Squared Error: {rmse}\")"
   ]
  },
  {
   "cell_type": "markdown",
   "id": "370b8b92",
   "metadata": {},
   "source": [
    "### Q6. Evaluating the model\n",
    "\n",
    "```\n",
    "Now let's apply this model to the validation dataset (February 2023).\n",
    "\n",
    "What's the RMSE on validation?\n",
    "\n",
    "3.81\n",
    "7.81\n",
    "11.81\n",
    "16.81\n",
    "```\n"
   ]
  },
  {
   "cell_type": "code",
   "execution_count": 11,
   "id": "7444e072",
   "metadata": {},
   "outputs": [
    {
     "name": "stdout",
     "output_type": "stream",
     "text": [
      "Number of columns in feature matrix: 519\n",
      "Mean Squared Error: 1878.0285030568737\n",
      "Root Mean Squared Error: 43.336226220759855\n"
     ]
    }
   ],
   "source": [
    "\n",
    "val_dicts = df_feb[categorical + numerical].to_dict(orient='records')\n",
    "X_val = dv.transform(val_dicts)\n",
    "print(f\"Number of columns in feature matrix: {X_val.shape[1]}\")\n",
    "\n",
    "target = 'duration'\n",
    "y_val = df_feb[target].values\n",
    "\n",
    "\n",
    "y_pred = lr.predict(X_val)\n",
    "\n",
    "mse = mean_squared_error(y_val, y_pred)\n",
    "\n",
    "\n",
    "rmse = np.sqrt(mse)\n",
    "#rmse = root_mean_squared_error(X_val, y_pred)\n",
    "\n",
    "\n",
    "\n",
    "print(f\"Mean Squared Error: {mse}\")\n",
    "print(f\"Root Mean Squared Error: {rmse}\")"
   ]
  },
  {
   "cell_type": "code",
   "execution_count": null,
   "id": "e1de7bd7",
   "metadata": {},
   "outputs": [],
   "source": []
  },
  {
   "cell_type": "code",
   "execution_count": null,
   "id": "1b9814e9",
   "metadata": {},
   "outputs": [],
   "source": []
  }
 ],
 "metadata": {
  "kernelspec": {
   "display_name": "Python 3",
   "language": "python",
   "name": "python3"
  },
  "language_info": {
   "codemirror_mode": {
    "name": "ipython",
    "version": 3
   },
   "file_extension": ".py",
   "mimetype": "text/x-python",
   "name": "python",
   "nbconvert_exporter": "python",
   "pygments_lexer": "ipython3",
   "version": "3.12.1"
  }
 },
 "nbformat": 4,
 "nbformat_minor": 5
}
